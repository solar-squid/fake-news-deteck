{
 "cells": [
  {
   "cell_type": "markdown",
   "id": "211addd6",
   "metadata": {},
   "source": [
    "# Разведка и обработка данных"
   ]
  },
  {
   "cell_type": "code",
   "execution_count": 123,
   "id": "086239b7",
   "metadata": {},
   "outputs": [],
   "source": [
    "# Импортируем необходимое:\n",
    "import numpy as np\n",
    "import pandas as pd\n",
    "import matplotlib.pyplot as plt\n",
    "import seaborn as sns"
   ]
  },
  {
   "cell_type": "code",
   "execution_count": 157,
   "id": "5bc20986",
   "metadata": {},
   "outputs": [],
   "source": [
    "from sklearn.linear_model import LogisticRegression\n",
    "from sklearn.neighbors import KNeighborsClassifier\n",
    "from sklearn.ensemble import RandomForestClassifier\n",
    "from sklearn.svm import SVC\n",
    "\n",
    "from sklearn.feature_extraction.text import TfidfVectorizer\n",
    "from sklearn.model_selection import train_test_split, cross_val_score\n",
    "from sklearn.model_selection import RandomizedSearchCV, GridSearchCV\n",
    "from sklearn.metrics import confusion_matrix, classification_report\n",
    "from sklearn.metrics import f1_score\n",
    "\n",
    "import snowballstemmer"
   ]
  },
  {
   "cell_type": "markdown",
   "id": "3814ce74",
   "metadata": {},
   "source": [
    "### Ознакомимся с данными"
   ]
  },
  {
   "cell_type": "code",
   "execution_count": 6,
   "id": "6e018af9",
   "metadata": {},
   "outputs": [],
   "source": [
    "df = pd.read_csv('data/train.tsv', sep=\"\\t\")"
   ]
  },
  {
   "cell_type": "code",
   "execution_count": 7,
   "id": "28e4a267",
   "metadata": {},
   "outputs": [
    {
     "data": {
      "text/html": [
       "<div>\n",
       "<style scoped>\n",
       "    .dataframe tbody tr th:only-of-type {\n",
       "        vertical-align: middle;\n",
       "    }\n",
       "\n",
       "    .dataframe tbody tr th {\n",
       "        vertical-align: top;\n",
       "    }\n",
       "\n",
       "    .dataframe thead th {\n",
       "        text-align: right;\n",
       "    }\n",
       "</style>\n",
       "<table border=\"1\" class=\"dataframe\">\n",
       "  <thead>\n",
       "    <tr style=\"text-align: right;\">\n",
       "      <th></th>\n",
       "      <th>title</th>\n",
       "      <th>is_fake</th>\n",
       "    </tr>\n",
       "  </thead>\n",
       "  <tbody>\n",
       "    <tr>\n",
       "      <th>0</th>\n",
       "      <td>Москвичу Владимиру Клутину пришёл счёт за вмеш...</td>\n",
       "      <td>1</td>\n",
       "    </tr>\n",
       "    <tr>\n",
       "      <th>1</th>\n",
       "      <td>Агент Кокорина назвал езду по встречке житейск...</td>\n",
       "      <td>0</td>\n",
       "    </tr>\n",
       "    <tr>\n",
       "      <th>2</th>\n",
       "      <td>Госдума рассмотрит возможность введения секрет...</td>\n",
       "      <td>1</td>\n",
       "    </tr>\n",
       "    <tr>\n",
       "      <th>3</th>\n",
       "      <td>ФАС заблокировала поставку скоростных трамваев...</td>\n",
       "      <td>0</td>\n",
       "    </tr>\n",
       "    <tr>\n",
       "      <th>4</th>\n",
       "      <td>Против Навального завели дело о недоносительст...</td>\n",
       "      <td>1</td>\n",
       "    </tr>\n",
       "    <tr>\n",
       "      <th>5</th>\n",
       "      <td>Российским студентам запретят учиться за рубежом</td>\n",
       "      <td>1</td>\n",
       "    </tr>\n",
       "    <tr>\n",
       "      <th>6</th>\n",
       "      <td>Путин пишет книгу об истории Украины</td>\n",
       "      <td>1</td>\n",
       "    </tr>\n",
       "    <tr>\n",
       "      <th>7</th>\n",
       "      <td>Россияне обхитрили рост цен</td>\n",
       "      <td>0</td>\n",
       "    </tr>\n",
       "    <tr>\n",
       "      <th>8</th>\n",
       "      <td>Звезда «Ворониных» раскрыл подробности о своем...</td>\n",
       "      <td>0</td>\n",
       "    </tr>\n",
       "    <tr>\n",
       "      <th>9</th>\n",
       "      <td>Microsoft объявила дату выхода очков дополненн...</td>\n",
       "      <td>0</td>\n",
       "    </tr>\n",
       "  </tbody>\n",
       "</table>\n",
       "</div>"
      ],
      "text/plain": [
       "                                               title  is_fake\n",
       "0  Москвичу Владимиру Клутину пришёл счёт за вмеш...        1\n",
       "1  Агент Кокорина назвал езду по встречке житейск...        0\n",
       "2  Госдума рассмотрит возможность введения секрет...        1\n",
       "3  ФАС заблокировала поставку скоростных трамваев...        0\n",
       "4  Против Навального завели дело о недоносительст...        1\n",
       "5   Российским студентам запретят учиться за рубежом        1\n",
       "6               Путин пишет книгу об истории Украины        1\n",
       "7                        Россияне обхитрили рост цен        0\n",
       "8  Звезда «Ворониных» раскрыл подробности о своем...        0\n",
       "9  Microsoft объявила дату выхода очков дополненн...        0"
      ]
     },
     "execution_count": 7,
     "metadata": {},
     "output_type": "execute_result"
    }
   ],
   "source": [
    "# Как выглядит датасет?:\n",
    "df.head(10)"
   ]
  },
  {
   "cell_type": "code",
   "execution_count": 8,
   "id": "650e7a2b",
   "metadata": {},
   "outputs": [
    {
     "data": {
      "text/html": [
       "<div>\n",
       "<style scoped>\n",
       "    .dataframe tbody tr th:only-of-type {\n",
       "        vertical-align: middle;\n",
       "    }\n",
       "\n",
       "    .dataframe tbody tr th {\n",
       "        vertical-align: top;\n",
       "    }\n",
       "\n",
       "    .dataframe thead th {\n",
       "        text-align: right;\n",
       "    }\n",
       "</style>\n",
       "<table border=\"1\" class=\"dataframe\">\n",
       "  <thead>\n",
       "    <tr style=\"text-align: right;\">\n",
       "      <th></th>\n",
       "      <th>title</th>\n",
       "      <th>is_fake</th>\n",
       "    </tr>\n",
       "  </thead>\n",
       "  <tbody>\n",
       "    <tr>\n",
       "      <th>5753</th>\n",
       "      <td>Эдди Чемберс получил сотрясение мозга в бою с ...</td>\n",
       "      <td>0</td>\n",
       "    </tr>\n",
       "    <tr>\n",
       "      <th>5754</th>\n",
       "      <td>Правительство застроит Россию нефтепродуктопро...</td>\n",
       "      <td>0</td>\n",
       "    </tr>\n",
       "    <tr>\n",
       "      <th>5755</th>\n",
       "      <td>«Мне стыдно перед дедом»: новый канцлер ФРГ об...</td>\n",
       "      <td>1</td>\n",
       "    </tr>\n",
       "    <tr>\n",
       "      <th>5756</th>\n",
       "      <td>Туркмения в декабре начнет поставки газа в Китай</td>\n",
       "      <td>0</td>\n",
       "    </tr>\n",
       "    <tr>\n",
       "      <th>5757</th>\n",
       "      <td>Бывший тренер Локомотива возглавил нальчикский...</td>\n",
       "      <td>0</td>\n",
       "    </tr>\n",
       "  </tbody>\n",
       "</table>\n",
       "</div>"
      ],
      "text/plain": [
       "                                                  title  is_fake\n",
       "5753  Эдди Чемберс получил сотрясение мозга в бою с ...        0\n",
       "5754  Правительство застроит Россию нефтепродуктопро...        0\n",
       "5755  «Мне стыдно перед дедом»: новый канцлер ФРГ об...        1\n",
       "5756   Туркмения в декабре начнет поставки газа в Китай        0\n",
       "5757  Бывший тренер Локомотива возглавил нальчикский...        0"
      ]
     },
     "execution_count": 8,
     "metadata": {},
     "output_type": "execute_result"
    }
   ],
   "source": [
    "df.tail()"
   ]
  },
  {
   "cell_type": "code",
   "execution_count": 9,
   "id": "7bd297e4",
   "metadata": {},
   "outputs": [
    {
     "data": {
      "text/plain": [
       "title      0\n",
       "is_fake    0\n",
       "dtype: int64"
      ]
     },
     "execution_count": 9,
     "metadata": {},
     "output_type": "execute_result"
    }
   ],
   "source": [
    "# Проверим на наличие пропусков:\n",
    "df.isna().sum()"
   ]
  },
  {
   "cell_type": "code",
   "execution_count": 10,
   "id": "bc2c7843",
   "metadata": {},
   "outputs": [
    {
     "name": "stdout",
     "output_type": "stream",
     "text": [
      "<class 'pandas.core.frame.DataFrame'>\n",
      "RangeIndex: 5758 entries, 0 to 5757\n",
      "Data columns (total 2 columns):\n",
      " #   Column   Non-Null Count  Dtype \n",
      "---  ------   --------------  ----- \n",
      " 0   title    5758 non-null   object\n",
      " 1   is_fake  5758 non-null   int64 \n",
      "dtypes: int64(1), object(1)\n",
      "memory usage: 90.1+ KB\n"
     ]
    }
   ],
   "source": [
    "# Обьем и типы данных:\n",
    "df.info()"
   ]
  },
  {
   "cell_type": "code",
   "execution_count": 11,
   "id": "7f9cc228",
   "metadata": {},
   "outputs": [
    {
     "data": {
      "image/png": "[encoded data removed]",
      "text/plain": [
       "<Figure size 432x288 with 1 Axes>"
      ]
     },
     "metadata": {
      "needs_background": "light"
     },
     "output_type": "display_data"
    }
   ],
   "source": [
    "# Распределение меток:\n",
    "df['is_fake'].value_counts().plot(kind='bar', color=[\"salmon\", \"lightblue\"]);"
   ]
  },
  {
   "cell_type": "markdown",
   "id": "665738e7",
   "metadata": {},
   "source": [
    "Лейблы распределены равномерно (поровну 0 и 1), что очень удобно для тренировки модели.\n",
    "\n",
    "Длина заголовка, даже при наличии некоторой корреляции, врядли может послужить валидным показателем, т.к. из жизненного опыта мы знаем, что любая новость может иметь заголовок любой длины в рамках принятых с СМИ норм. \n",
    "\n",
    "Таким образом, попытка опираться на этот показатель может привести к возрастанию ложно положительных или ложно отрицательных результатов.\n",
    "\n",
    "Т.к. других полей не предоставлено, можно перейти к построению моделей."
   ]
  },
  {
   "cell_type": "code",
   "execution_count": 12,
   "id": "6e90f5ce",
   "metadata": {},
   "outputs": [],
   "source": [
    "stemmer = snowballstemmer.stemmer('russian')"
   ]
  },
  {
   "cell_type": "code",
   "execution_count": 13,
   "id": "920d0e95",
   "metadata": {},
   "outputs": [],
   "source": [
    "# Разобъем данные на тренировочный и валидационный наборы.\n",
    "X_train, X_test, y_train, y_test = train_test_split(df['title'], df['is_fake'], test_size=0.25, random_state=42, shuffle=True)"
   ]
  },
  {
   "cell_type": "code",
   "execution_count": 14,
   "id": "a613c5b5",
   "metadata": {},
   "outputs": [
    {
     "data": {
      "text/plain": [
       "((4318,), (4318,), (1440,), (1440,))"
      ]
     },
     "execution_count": 14,
     "metadata": {},
     "output_type": "execute_result"
    }
   ],
   "source": [
    "X_train.shape, y_train.shape, y_test.shape, X_test.shape"
   ]
  },
  {
   "cell_type": "markdown",
   "id": "ca527d6f",
   "metadata": {},
   "source": [
    "### Произведем стемминг"
   ]
  },
  {
   "cell_type": "code",
   "execution_count": 15,
   "id": "49dea0c8",
   "metadata": {},
   "outputs": [],
   "source": [
    "Xs_test = [' '.join(stemmer.stemWords(line.split())) for line in X_test]\n",
    "Xs_train = [' '.join(stemmer.stemWords(line.split())) for line in X_train]"
   ]
  },
  {
   "cell_type": "code",
   "execution_count": 236,
   "id": "a24fde9b",
   "metadata": {},
   "outputs": [
    {
     "data": {
      "text/plain": [
       "(['Учен рад Марс прож восем месяц в изоляц на Гавай',\n",
       "  'Обзор рынков: РТС не удержа на отметк 1900 пункт',\n",
       "  'Sony Pictures куп сценар фильма-катастроф Эммерих'],\n",
       " ['Начальн класс переведут на учебник арифметик Юри Рыбников',\n",
       "  'Дэниел Крейг возглав рейтинг сам элегантн британц',\n",
       "  'В Белорусс ликвидир СМИ, недостаточн освеща сельскохозяйствен работ'])"
      ]
     },
     "execution_count": 236,
     "metadata": {},
     "output_type": "execute_result"
    }
   ],
   "source": [
    "Xs_test[:3], Xs_train[:3]"
   ]
  },
  {
   "cell_type": "code",
   "execution_count": 17,
   "id": "074e5772",
   "metadata": {},
   "outputs": [],
   "source": [
    "# Превратим текстовые данные в числовые векторы:\n",
    "vectorizer = TfidfVectorizer(stop_words=None,\n",
    "                             ngram_range=(1, 1),\n",
    "                             lowercase=False)"
   ]
  },
  {
   "cell_type": "markdown",
   "id": "1f8c5a0b",
   "metadata": {},
   "source": [
    "Для последующего сравнения создадим два варианта набора данных:"
   ]
  },
  {
   "cell_type": "code",
   "execution_count": 63,
   "id": "c9596e1a",
   "metadata": {},
   "outputs": [],
   "source": [
    "# Без стемминга\n",
    "Xv_train = vectorizer.fit_transform(X_train)\n",
    "Xv_test = vectorizer.transform(X_test)\n",
    "\n",
    "# Со стеммингом\n",
    "Xsv_train = vectorizer.fit_transform(Xs_train)\n",
    "Xsv_test = vectorizer.transform(Xs_test)"
   ]
  },
  {
   "cell_type": "code",
   "execution_count": 23,
   "id": "715c4b23",
   "metadata": {},
   "outputs": [
    {
     "data": {
      "text/plain": [
       "((1440, 11075), (4318, 11075))"
      ]
     },
     "execution_count": 23,
     "metadata": {},
     "output_type": "execute_result"
    }
   ],
   "source": [
    "Xv_test.shape, Xv_train.shape"
   ]
  },
  {
   "cell_type": "code",
   "execution_count": 64,
   "id": "aa98318c",
   "metadata": {},
   "outputs": [
    {
     "data": {
      "text/plain": [
       "((1440, 11075), (4318, 11075))"
      ]
     },
     "execution_count": 64,
     "metadata": {},
     "output_type": "execute_result"
    }
   ],
   "source": [
    "Xsv_test.shape, Xsv_train.shape"
   ]
  },
  {
   "cell_type": "markdown",
   "id": "c632b7f3",
   "metadata": {},
   "source": [
    "# Построим модели\n",
    "\n",
    "Напишем функцию, прогоняющую данные через все модели, сравнивая их эффективность:"
   ]
  },
  {
   "cell_type": "code",
   "execution_count": 65,
   "id": "afba9130",
   "metadata": {},
   "outputs": [],
   "source": [
    "models = {'Logistic Regression': LogisticRegression(),\n",
    "          'KNN': KNeighborsClassifier(),\n",
    "          'Random Forest': RandomForestClassifier(),\n",
    "          'SVC': SVC()}\n",
    "\n",
    "# Функция для тртенировки и оценки моделей\n",
    "def fit_and_score(models, X_train, X_test, y_train, y_test):\n",
    "    \"\"\"\n",
    "    Тренирует и оценивает заданные модели.\n",
    "    models : словарь из моделей Scikit-Learn\n",
    "    X_train : тренировочные данные (no labels)\n",
    "    X_test : проверочные данные (no labels)\n",
    "    y_train : тренировочные лейблы\n",
    "    y_test : проверочные лейблы\n",
    "    \"\"\"\n",
    "    np.random.seed(42)\n",
    "    # Словарь для хранения результативности моделей\n",
    "    model_scores = {}\n",
    "    for name, model in models.items():\n",
    "        model.fit(X_train, y_train)\n",
    "        model_scores[name] = model.score(X_test, y_test)\n",
    "    return model_scores"
   ]
  },
  {
   "cell_type": "code",
   "execution_count": 66,
   "id": "96550065",
   "metadata": {},
   "outputs": [
    {
     "data": {
      "text/plain": [
       "{'Logistic Regression': 0.8256944444444444,\n",
       " 'KNN': 0.7743055555555556,\n",
       " 'Random Forest': 0.7104166666666667,\n",
       " 'SVC': 0.8263888888888888}"
      ]
     },
     "execution_count": 66,
     "metadata": {},
     "output_type": "execute_result"
    }
   ],
   "source": [
    "# Вариант без стемминга:\n",
    "model_scores = fit_and_score(models=models, \n",
    "                             X_train=Xv_train, \n",
    "                             X_test=Xv_test,\n",
    "                             y_train=y_train,\n",
    "                             y_test=y_test)\n",
    "model_scores"
   ]
  },
  {
   "cell_type": "code",
   "execution_count": 68,
   "id": "47949858",
   "metadata": {},
   "outputs": [
    {
     "data": {
      "text/plain": [
       "{'Logistic Regression': 0.8375,\n",
       " 'KNN': 0.7875,\n",
       " 'Random Forest': 0.7409722222222223,\n",
       " 'SVC': 0.8444444444444444}"
      ]
     },
     "execution_count": 68,
     "metadata": {},
     "output_type": "execute_result"
    }
   ],
   "source": [
    "# Вариант со стеммингом:\n",
    "model_scores_s = fit_and_score(models=models, \n",
    "                               X_train=Xsv_train, \n",
    "                               X_test=Xsv_test,\n",
    "                               y_train=y_train,\n",
    "                               y_test=y_test)\n",
    "model_scores_s"
   ]
  },
  {
   "cell_type": "markdown",
   "id": "153cddd7",
   "metadata": {},
   "source": [
    "В обоих случаях `Logistic Regression` и `SVC` показали наилучшие результаты \"из коробки\".\n",
    "\n",
    "Попробуем донастроить лучшие модели."
   ]
  },
  {
   "cell_type": "markdown",
   "id": "5d6e129d",
   "metadata": {},
   "source": [
    "### Настройка гиперпараметров"
   ]
  },
  {
   "cell_type": "markdown",
   "id": "d50f0aa4",
   "metadata": {},
   "source": [
    "#### Настроим LogisticRegression"
   ]
  },
  {
   "cell_type": "code",
   "execution_count": 26,
   "id": "c49f0d2a",
   "metadata": {},
   "outputs": [],
   "source": [
    "# Зададим сетку параметров:\n",
    "logreg_grid = {\"C\": np.logspace(-4, 4, 20),\n",
    "           \"solver\": [\"liblinear\", \"newton-cg\"]}"
   ]
  },
  {
   "cell_type": "code",
   "execution_count": 72,
   "id": "e6056245",
   "metadata": {},
   "outputs": [
    {
     "name": "stdout",
     "output_type": "stream",
     "text": [
      "Fitting 5 folds for each of 40 candidates, totalling 200 fits\n"
     ]
    },
    {
     "data": {
      "text/plain": [
       "GridSearchCV(cv=5, estimator=LogisticRegression(),\n",
       "             param_grid={'C': array([1.00000000e-04, 2.63665090e-04, 6.95192796e-04, 1.83298071e-03,\n",
       "       4.83293024e-03, 1.27427499e-02, 3.35981829e-02, 8.85866790e-02,\n",
       "       2.33572147e-01, 6.15848211e-01, 1.62377674e+00, 4.28133240e+00,\n",
       "       1.12883789e+01, 2.97635144e+01, 7.84759970e+01, 2.06913808e+02,\n",
       "       5.45559478e+02, 1.43844989e+03, 3.79269019e+03, 1.00000000e+04]),\n",
       "                         'solver': ['liblinear', 'newton-cg']},\n",
       "             verbose=True)"
      ]
     },
     "execution_count": 72,
     "metadata": {},
     "output_type": "execute_result"
    }
   ],
   "source": [
    "# Без стемминга\n",
    "np.random.seed(42)\n",
    "\n",
    "# Настраиваем перебор параметров по сетке для LogisticRegression\n",
    "rs_logreg = GridSearchCV(LogisticRegression(),\n",
    "                         param_grid=logreg_grid,\n",
    "                         cv=5,\n",
    "                         verbose=True)\n",
    "\n",
    "# Тренируем LogisticRegression\n",
    "rs_logreg.fit(Xv_train, y_train)"
   ]
  },
  {
   "cell_type": "code",
   "execution_count": 73,
   "id": "72b8ddfe",
   "metadata": {},
   "outputs": [
    {
     "name": "stdout",
     "output_type": "stream",
     "text": [
      "Fitting 5 folds for each of 40 candidates, totalling 200 fits\n"
     ]
    },
    {
     "data": {
      "text/plain": [
       "GridSearchCV(cv=5, estimator=LogisticRegression(),\n",
       "             param_grid={'C': array([1.00000000e-04, 2.63665090e-04, 6.95192796e-04, 1.83298071e-03,\n",
       "       4.83293024e-03, 1.27427499e-02, 3.35981829e-02, 8.85866790e-02,\n",
       "       2.33572147e-01, 6.15848211e-01, 1.62377674e+00, 4.28133240e+00,\n",
       "       1.12883789e+01, 2.97635144e+01, 7.84759970e+01, 2.06913808e+02,\n",
       "       5.45559478e+02, 1.43844989e+03, 3.79269019e+03, 1.00000000e+04]),\n",
       "                         'solver': ['liblinear', 'newton-cg']},\n",
       "             verbose=True)"
      ]
     },
     "execution_count": 73,
     "metadata": {},
     "output_type": "execute_result"
    }
   ],
   "source": [
    "# Состеммингом:\n",
    "np.random.seed(42)\n",
    "\n",
    "# Настраиваем перебор параметров по сетке для LogisticRegression\n",
    "rs_logreg_s = GridSearchCV(LogisticRegression(),\n",
    "                           param_grid=logreg_grid,\n",
    "                           cv=5,\n",
    "                           verbose=True)\n",
    "\n",
    "# Тренируем LogisticRegression\n",
    "rs_logreg_s.fit(Xsv_train, y_train)"
   ]
  },
  {
   "cell_type": "code",
   "execution_count": 74,
   "id": "7c39ba4b",
   "metadata": {},
   "outputs": [
    {
     "data": {
      "text/plain": [
       "({'C': 206.913808111479, 'solver': 'liblinear'},\n",
       " {'C': 78.47599703514607, 'solver': 'liblinear'})"
      ]
     },
     "execution_count": 74,
     "metadata": {},
     "output_type": "execute_result"
    }
   ],
   "source": [
    "# Оптимальный набор параметров для Logistic Regression:\n",
    "rs_logreg.best_params_, rs_logreg_s.best_params_"
   ]
  },
  {
   "cell_type": "code",
   "execution_count": 76,
   "id": "01a72d69",
   "metadata": {},
   "outputs": [],
   "source": [
    "y_preds = rs_logreg.predict(Xv_test)\n",
    "y_preds_s = rs_logreg_s.predict(Xsv_test)"
   ]
  },
  {
   "cell_type": "code",
   "execution_count": 77,
   "id": "38a4a48f",
   "metadata": {},
   "outputs": [
    {
     "name": "stdout",
     "output_type": "stream",
     "text": [
      "              precision    recall  f1-score   support\n",
      "\n",
      "           0       0.84      0.82      0.83       701\n",
      "           1       0.83      0.85      0.84       739\n",
      "\n",
      "    accuracy                           0.84      1440\n",
      "   macro avg       0.84      0.84      0.84      1440\n",
      "weighted avg       0.84      0.84      0.84      1440\n",
      "\n"
     ]
    }
   ],
   "source": [
    "# Посмотрим на показатели модели без применения стемминга\n",
    "print(classification_report(y_test, y_preds))"
   ]
  },
  {
   "cell_type": "code",
   "execution_count": 78,
   "id": "61bc3c65",
   "metadata": {},
   "outputs": [
    {
     "name": "stdout",
     "output_type": "stream",
     "text": [
      "              precision    recall  f1-score   support\n",
      "\n",
      "           0       0.83      0.83      0.83       701\n",
      "           1       0.84      0.84      0.84       739\n",
      "\n",
      "    accuracy                           0.84      1440\n",
      "   macro avg       0.84      0.84      0.84      1440\n",
      "weighted avg       0.84      0.84      0.84      1440\n",
      "\n"
     ]
    }
   ],
   "source": [
    "# ...и со стеммингом\n",
    "print(classification_report(y_test, y_preds_s))"
   ]
  },
  {
   "cell_type": "code",
   "execution_count": 237,
   "id": "73abdc7f",
   "metadata": {},
   "outputs": [
    {
     "data": {
      "text/html": [
       "<div>\n",
       "<style scoped>\n",
       "    .dataframe tbody tr th:only-of-type {\n",
       "        vertical-align: middle;\n",
       "    }\n",
       "\n",
       "    .dataframe tbody tr th {\n",
       "        vertical-align: top;\n",
       "    }\n",
       "\n",
       "    .dataframe thead th {\n",
       "        text-align: right;\n",
       "    }\n",
       "</style>\n",
       "<table border=\"1\" class=\"dataframe\">\n",
       "  <thead>\n",
       "    <tr style=\"text-align: right;\">\n",
       "      <th>col_0</th>\n",
       "      <th>0</th>\n",
       "      <th>1</th>\n",
       "    </tr>\n",
       "    <tr>\n",
       "      <th>is_fake</th>\n",
       "      <th></th>\n",
       "      <th></th>\n",
       "    </tr>\n",
       "  </thead>\n",
       "  <tbody>\n",
       "    <tr>\n",
       "      <th>0</th>\n",
       "      <td>575</td>\n",
       "      <td>126</td>\n",
       "    </tr>\n",
       "    <tr>\n",
       "      <th>1</th>\n",
       "      <td>108</td>\n",
       "      <td>631</td>\n",
       "    </tr>\n",
       "  </tbody>\n",
       "</table>\n",
       "</div>"
      ],
      "text/plain": [
       "col_0      0    1\n",
       "is_fake          \n",
       "0        575  126\n",
       "1        108  631"
      ]
     },
     "execution_count": 237,
     "metadata": {},
     "output_type": "execute_result"
    }
   ],
   "source": [
    "pd.crosstab(y_test, y_preds)"
   ]
  },
  {
   "cell_type": "code",
   "execution_count": 238,
   "id": "0167255b",
   "metadata": {},
   "outputs": [
    {
     "data": {
      "text/html": [
       "<div>\n",
       "<style scoped>\n",
       "    .dataframe tbody tr th:only-of-type {\n",
       "        vertical-align: middle;\n",
       "    }\n",
       "\n",
       "    .dataframe tbody tr th {\n",
       "        vertical-align: top;\n",
       "    }\n",
       "\n",
       "    .dataframe thead th {\n",
       "        text-align: right;\n",
       "    }\n",
       "</style>\n",
       "<table border=\"1\" class=\"dataframe\">\n",
       "  <thead>\n",
       "    <tr style=\"text-align: right;\">\n",
       "      <th>col_0</th>\n",
       "      <th>0</th>\n",
       "      <th>1</th>\n",
       "    </tr>\n",
       "    <tr>\n",
       "      <th>is_fake</th>\n",
       "      <th></th>\n",
       "      <th></th>\n",
       "    </tr>\n",
       "  </thead>\n",
       "  <tbody>\n",
       "    <tr>\n",
       "      <th>0</th>\n",
       "      <td>582</td>\n",
       "      <td>119</td>\n",
       "    </tr>\n",
       "    <tr>\n",
       "      <th>1</th>\n",
       "      <td>116</td>\n",
       "      <td>623</td>\n",
       "    </tr>\n",
       "  </tbody>\n",
       "</table>\n",
       "</div>"
      ],
      "text/plain": [
       "col_0      0    1\n",
       "is_fake          \n",
       "0        582  119\n",
       "1        116  623"
      ]
     },
     "execution_count": 238,
     "metadata": {},
     "output_type": "execute_result"
    }
   ],
   "source": [
    "pd.crosstab(y_test, y_preds_s)"
   ]
  },
  {
   "cell_type": "code",
   "execution_count": 82,
   "id": "6b103fd4",
   "metadata": {},
   "outputs": [
    {
     "data": {
      "text/plain": [
       "(1440,)"
      ]
     },
     "execution_count": 82,
     "metadata": {},
     "output_type": "execute_result"
    }
   ],
   "source": [
    "y_test.shape"
   ]
  },
  {
   "cell_type": "markdown",
   "id": "b710a13e",
   "metadata": {},
   "source": [
    "Для данной модели мы получили меньше ложноположительных результатов, по сравнению с ложноотрицательными.\n",
    "Модель чаще ошибается, принимая фейки за реальные новости."
   ]
  },
  {
   "cell_type": "markdown",
   "id": "7687da28",
   "metadata": {},
   "source": [
    "\n",
    "\n",
    "**`Предлагаемая метрика для оценки f1_score для Logistic Regression:`**"
   ]
  },
  {
   "cell_type": "code",
   "execution_count": 239,
   "id": "e62c1b9a",
   "metadata": {},
   "outputs": [
    {
     "name": "stdout",
     "output_type": "stream",
     "text": [
      "LR_f1 = 0.8435828877005348\n",
      "LR_f1_s = 0.8413234301147874\n"
     ]
    }
   ],
   "source": [
    "LR_f1 = f1_score(y_test, y_preds)\n",
    "LR_f1_s = f1_score(y_test, y_preds_s)\n",
    "print(f\"LR_f1 = {LR_f1}\")\n",
    "print(f\"LR_f1_s = {LR_f1_s}\")"
   ]
  },
  {
   "cell_type": "markdown",
   "id": "338e8b3d",
   "metadata": {},
   "source": [
    "Показатель f1 немного лучше у варианта без стемминга."
   ]
  },
  {
   "cell_type": "markdown",
   "id": "ee0f2ff8",
   "metadata": {},
   "source": [
    "\n",
    "\n",
    "#### Настроим SVC"
   ]
  },
  {
   "cell_type": "code",
   "execution_count": 107,
   "id": "86c15063",
   "metadata": {},
   "outputs": [],
   "source": [
    "# Зададим сетку параметров:\n",
    "SVC_grid = {\"C\": np.logspace(0, 100, 10),\n",
    "            \"gamma\": [\"auto\", \"scale\"],\n",
    "            \"kernel\": [\"linear\", \"poly\", \"rbf\", \"sigmoid\"]}"
   ]
  },
  {
   "cell_type": "code",
   "execution_count": 108,
   "id": "7cffc574",
   "metadata": {},
   "outputs": [
    {
     "name": "stdout",
     "output_type": "stream",
     "text": [
      "Fitting 5 folds for each of 50 candidates, totalling 250 fits\n"
     ]
    },
    {
     "data": {
      "text/plain": [
       "RandomizedSearchCV(cv=5, estimator=SVC(), n_iter=50,\n",
       "                   param_distributions={'C': array([1.00000000e+000, 1.29154967e+011, 1.66810054e+022, 2.15443469e+033,\n",
       "       2.78255940e+044, 3.59381366e+055, 4.64158883e+066, 5.99484250e+077,\n",
       "       7.74263683e+088, 1.00000000e+100]),\n",
       "                                        'gamma': ['auto', 'scale'],\n",
       "                                        'kernel': ['linear', 'poly', 'rbf',\n",
       "                                                   'sigmoid']},\n",
       "                   verbose=True)"
      ]
     },
     "execution_count": 108,
     "metadata": {},
     "output_type": "execute_result"
    }
   ],
   "source": [
    "np.random.seed(42)\n",
    "\n",
    "# Настраиваем случайный поиск параметров для SVC\n",
    "rs_SVC = RandomizedSearchCV(SVC(),\n",
    "                            param_distributions=SVC_grid,\n",
    "                            cv=5,\n",
    "                            n_iter=50,\n",
    "                            verbose=True)\n",
    "\n",
    "# Тренируем LogisticRegression\n",
    "rs_SVC.fit(Xv_train, y_train)"
   ]
  },
  {
   "cell_type": "code",
   "execution_count": 109,
   "id": "93a8e6fa",
   "metadata": {},
   "outputs": [
    {
     "name": "stdout",
     "output_type": "stream",
     "text": [
      "Fitting 5 folds for each of 50 candidates, totalling 250 fits\n"
     ]
    },
    {
     "data": {
      "text/plain": [
       "RandomizedSearchCV(cv=5, estimator=SVC(), n_iter=50,\n",
       "                   param_distributions={'C': array([1.00000000e+000, 1.29154967e+011, 1.66810054e+022, 2.15443469e+033,\n",
       "       2.78255940e+044, 3.59381366e+055, 4.64158883e+066, 5.99484250e+077,\n",
       "       7.74263683e+088, 1.00000000e+100]),\n",
       "                                        'gamma': ['auto', 'scale'],\n",
       "                                        'kernel': ['linear', 'poly', 'rbf',\n",
       "                                                   'sigmoid']},\n",
       "                   verbose=True)"
      ]
     },
     "execution_count": 109,
     "metadata": {},
     "output_type": "execute_result"
    }
   ],
   "source": [
    "# Со стеммингом\n",
    "np.random.seed(42)\n",
    "\n",
    "# Настраиваем случайный поиск параметров для SVC\n",
    "rs_SVC_s = RandomizedSearchCV(SVC(),\n",
    "                              param_distributions=SVC_grid,\n",
    "                              cv=5,\n",
    "                              n_iter=50,\n",
    "                              verbose=True)\n",
    "\n",
    "# Тренируем LogisticRegression\n",
    "rs_SVC_s.fit(Xsv_train, y_train)"
   ]
  },
  {
   "cell_type": "code",
   "execution_count": 111,
   "id": "98a3a9e3",
   "metadata": {},
   "outputs": [
    {
     "data": {
      "text/plain": [
       "({'kernel': 'linear', 'gamma': 'auto', 'C': 1.0},\n",
       " {'kernel': 'poly', 'gamma': 'auto', 'C': 4.641588833612677e+66})"
      ]
     },
     "execution_count": 111,
     "metadata": {},
     "output_type": "execute_result"
    }
   ],
   "source": [
    "# Оптимальный набор параметров для SVC:\n",
    "rs_SVC.best_params_, rs_SVC_s.best_params_"
   ]
  },
  {
   "cell_type": "code",
   "execution_count": 112,
   "id": "731805b3",
   "metadata": {},
   "outputs": [],
   "source": [
    "y_preds1 = rs_SVC.predict(Xv_test)\n",
    "y_preds1_s = rs_SVC_s.predict(Xsv_test)"
   ]
  },
  {
   "cell_type": "code",
   "execution_count": 113,
   "id": "324568d7",
   "metadata": {},
   "outputs": [
    {
     "name": "stdout",
     "output_type": "stream",
     "text": [
      "              precision    recall  f1-score   support\n",
      "\n",
      "           0       0.84      0.83      0.83       701\n",
      "           1       0.84      0.85      0.84       739\n",
      "\n",
      "    accuracy                           0.84      1440\n",
      "   macro avg       0.84      0.84      0.84      1440\n",
      "weighted avg       0.84      0.84      0.84      1440\n",
      "\n"
     ]
    }
   ],
   "source": [
    "print(classification_report(y_test, y_preds1))"
   ]
  },
  {
   "cell_type": "code",
   "execution_count": 114,
   "id": "b38cdc77",
   "metadata": {},
   "outputs": [
    {
     "name": "stdout",
     "output_type": "stream",
     "text": [
      "              precision    recall  f1-score   support\n",
      "\n",
      "           0       0.83      0.86      0.84       701\n",
      "           1       0.86      0.83      0.85       739\n",
      "\n",
      "    accuracy                           0.84      1440\n",
      "   macro avg       0.84      0.84      0.84      1440\n",
      "weighted avg       0.85      0.84      0.84      1440\n",
      "\n"
     ]
    }
   ],
   "source": [
    "print(classification_report(y_test, y_preds1_s))"
   ]
  },
  {
   "cell_type": "code",
   "execution_count": 115,
   "id": "24026606",
   "metadata": {},
   "outputs": [
    {
     "data": {
      "text/html": [
       "<div>\n",
       "<style scoped>\n",
       "    .dataframe tbody tr th:only-of-type {\n",
       "        vertical-align: middle;\n",
       "    }\n",
       "\n",
       "    .dataframe tbody tr th {\n",
       "        vertical-align: top;\n",
       "    }\n",
       "\n",
       "    .dataframe thead th {\n",
       "        text-align: right;\n",
       "    }\n",
       "</style>\n",
       "<table border=\"1\" class=\"dataframe\">\n",
       "  <thead>\n",
       "    <tr style=\"text-align: right;\">\n",
       "      <th>col_0</th>\n",
       "      <th>0</th>\n",
       "      <th>1</th>\n",
       "    </tr>\n",
       "    <tr>\n",
       "      <th>is_fake</th>\n",
       "      <th></th>\n",
       "      <th></th>\n",
       "    </tr>\n",
       "  </thead>\n",
       "  <tbody>\n",
       "    <tr>\n",
       "      <th>0</th>\n",
       "      <td>580</td>\n",
       "      <td>121</td>\n",
       "    </tr>\n",
       "    <tr>\n",
       "      <th>1</th>\n",
       "      <td>113</td>\n",
       "      <td>626</td>\n",
       "    </tr>\n",
       "  </tbody>\n",
       "</table>\n",
       "</div>"
      ],
      "text/plain": [
       "col_0      0    1\n",
       "is_fake          \n",
       "0        580  121\n",
       "1        113  626"
      ]
     },
     "execution_count": 115,
     "metadata": {},
     "output_type": "execute_result"
    }
   ],
   "source": [
    "pd.crosstab(y_test, y_preds1)"
   ]
  },
  {
   "cell_type": "code",
   "execution_count": 116,
   "id": "545a1a0c",
   "metadata": {},
   "outputs": [
    {
     "data": {
      "text/html": [
       "<div>\n",
       "<style scoped>\n",
       "    .dataframe tbody tr th:only-of-type {\n",
       "        vertical-align: middle;\n",
       "    }\n",
       "\n",
       "    .dataframe tbody tr th {\n",
       "        vertical-align: top;\n",
       "    }\n",
       "\n",
       "    .dataframe thead th {\n",
       "        text-align: right;\n",
       "    }\n",
       "</style>\n",
       "<table border=\"1\" class=\"dataframe\">\n",
       "  <thead>\n",
       "    <tr style=\"text-align: right;\">\n",
       "      <th>col_0</th>\n",
       "      <th>0</th>\n",
       "      <th>1</th>\n",
       "    </tr>\n",
       "    <tr>\n",
       "      <th>is_fake</th>\n",
       "      <th></th>\n",
       "      <th></th>\n",
       "    </tr>\n",
       "  </thead>\n",
       "  <tbody>\n",
       "    <tr>\n",
       "      <th>0</th>\n",
       "      <td>602</td>\n",
       "      <td>99</td>\n",
       "    </tr>\n",
       "    <tr>\n",
       "      <th>1</th>\n",
       "      <td>125</td>\n",
       "      <td>614</td>\n",
       "    </tr>\n",
       "  </tbody>\n",
       "</table>\n",
       "</div>"
      ],
      "text/plain": [
       "col_0      0    1\n",
       "is_fake          \n",
       "0        602   99\n",
       "1        125  614"
      ]
     },
     "execution_count": 116,
     "metadata": {},
     "output_type": "execute_result"
    }
   ],
   "source": [
    "pd.crosstab(y_test, y_preds1_s)"
   ]
  },
  {
   "cell_type": "markdown",
   "id": "1b81038a",
   "metadata": {},
   "source": [
    "`SVC` со стеммингом дала немного меньше ложноотрицательных результатов по сравнению с `LogisticRegression`, но в среднем больше ложноположительных. \n",
    "\n",
    "Не смотря на более низкий показатель f1, в зависимости от специфики задачи, `SVC` может дать более качественный результат, например, **если важно детектировать именно фейки**."
   ]
  },
  {
   "cell_type": "markdown",
   "id": "36c749c3",
   "metadata": {},
   "source": [
    "**`Предлагаемая метрика для оценки f1_score для SVC:`**"
   ]
  },
  {
   "cell_type": "code",
   "execution_count": 240,
   "id": "027a6798",
   "metadata": {},
   "outputs": [
    {
     "name": "stdout",
     "output_type": "stream",
     "text": [
      "SVC_f1 = 0.8425302826379543\n",
      "SVC_f1_s = 0.8457300275482094\n"
     ]
    }
   ],
   "source": [
    "SVC_f1 = f1_score(y_test, y_preds1)\n",
    "SVC_f1_s = f1_score(y_test, y_preds1_s)\n",
    "print(f\"SVC_f1 = {SVC_f1}\")\n",
    "print(f\"SVC_f1_s = {SVC_f1_s}\")"
   ]
  },
  {
   "cell_type": "markdown",
   "id": "beb00873",
   "metadata": {},
   "source": [
    "Для `SVC` показатель `f1` выше при использовании стемминга"
   ]
  },
  {
   "cell_type": "markdown",
   "id": "845ebf5f",
   "metadata": {},
   "source": [
    "\n",
    "\n",
    "#### Настроим KNN"
   ]
  },
  {
   "cell_type": "code",
   "execution_count": 95,
   "id": "cff1f234",
   "metadata": {},
   "outputs": [],
   "source": [
    "# Сетка параметров:\n",
    "KNN_grid = {\"n_neighbors\": range(1, 21),\n",
    "            \"weights\": [\"uniform\", \"distance\"]}"
   ]
  },
  {
   "cell_type": "code",
   "execution_count": 96,
   "id": "df7dfff6",
   "metadata": {},
   "outputs": [
    {
     "name": "stdout",
     "output_type": "stream",
     "text": [
      "Fitting 5 folds for each of 40 candidates, totalling 200 fits\n"
     ]
    },
    {
     "data": {
      "text/plain": [
       "GridSearchCV(cv=5, estimator=KNeighborsClassifier(),\n",
       "             param_grid={'n_neighbors': range(1, 21),\n",
       "                         'weights': ['uniform', 'distance']},\n",
       "             verbose=True)"
      ]
     },
     "execution_count": 96,
     "metadata": {},
     "output_type": "execute_result"
    }
   ],
   "source": [
    "np.random.seed(42)\n",
    "\n",
    "# Настраиваем сеточный поиск параметров для KNN\n",
    "rs_KNN = GridSearchCV(KNeighborsClassifier(),\n",
    "                      param_grid=KNN_grid,\n",
    "                      cv=5,\n",
    "                      verbose=True)\n",
    "\n",
    "# Тренируем LogisticRegression\n",
    "rs_KNN.fit(Xv_train, y_train)"
   ]
  },
  {
   "cell_type": "code",
   "execution_count": 97,
   "id": "e90b9cbd",
   "metadata": {},
   "outputs": [
    {
     "name": "stdout",
     "output_type": "stream",
     "text": [
      "Fitting 5 folds for each of 40 candidates, totalling 200 fits\n"
     ]
    },
    {
     "data": {
      "text/plain": [
       "GridSearchCV(cv=5, estimator=KNeighborsClassifier(),\n",
       "             param_grid={'n_neighbors': range(1, 21),\n",
       "                         'weights': ['uniform', 'distance']},\n",
       "             verbose=True)"
      ]
     },
     "execution_count": 97,
     "metadata": {},
     "output_type": "execute_result"
    }
   ],
   "source": [
    "np.random.seed(42)\n",
    "\n",
    "# Настраиваем сеточный поиск параметров для KNN\n",
    "rs_KNN_s = GridSearchCV(KNeighborsClassifier(),\n",
    "                        param_grid=KNN_grid,\n",
    "                        cv=5,\n",
    "                        verbose=True)\n",
    "\n",
    "# Тренируем LogisticRegression\n",
    "rs_KNN_s.fit(Xsv_train, y_train)"
   ]
  },
  {
   "cell_type": "code",
   "execution_count": 98,
   "id": "a25b54d8",
   "metadata": {},
   "outputs": [
    {
     "data": {
      "text/plain": [
       "({'n_neighbors': 4, 'weights': 'distance'},\n",
       " {'n_neighbors': 6, 'weights': 'distance'})"
      ]
     },
     "execution_count": 98,
     "metadata": {},
     "output_type": "execute_result"
    }
   ],
   "source": [
    "# Оптимальный набор параметров для KNN:\n",
    "rs_KNN.best_params_, rs_KNN_s.best_params_"
   ]
  },
  {
   "cell_type": "code",
   "execution_count": 100,
   "id": "cd6d6950",
   "metadata": {},
   "outputs": [],
   "source": [
    "y_preds2 = rs_KNN.predict(Xv_test)\n",
    "y_preds2_s = rs_KNN_s.predict(Xsv_test)"
   ]
  },
  {
   "cell_type": "code",
   "execution_count": 101,
   "id": "75a9a032",
   "metadata": {},
   "outputs": [
    {
     "name": "stdout",
     "output_type": "stream",
     "text": [
      "              precision    recall  f1-score   support\n",
      "\n",
      "           0       0.75      0.83      0.78       701\n",
      "           1       0.82      0.73      0.77       739\n",
      "\n",
      "    accuracy                           0.78      1440\n",
      "   macro avg       0.78      0.78      0.78      1440\n",
      "weighted avg       0.78      0.78      0.78      1440\n",
      "\n"
     ]
    }
   ],
   "source": [
    "print(classification_report(y_test, y_preds2))"
   ]
  },
  {
   "cell_type": "code",
   "execution_count": 102,
   "id": "9566b876",
   "metadata": {},
   "outputs": [
    {
     "name": "stdout",
     "output_type": "stream",
     "text": [
      "              precision    recall  f1-score   support\n",
      "\n",
      "           0       0.76      0.87      0.81       701\n",
      "           1       0.86      0.73      0.79       739\n",
      "\n",
      "    accuracy                           0.80      1440\n",
      "   macro avg       0.81      0.80      0.80      1440\n",
      "weighted avg       0.81      0.80      0.80      1440\n",
      "\n"
     ]
    }
   ],
   "source": [
    "print(classification_report(y_test, y_preds2_s))"
   ]
  },
  {
   "cell_type": "code",
   "execution_count": 103,
   "id": "3b84abea",
   "metadata": {},
   "outputs": [
    {
     "data": {
      "text/html": [
       "<div>\n",
       "<style scoped>\n",
       "    .dataframe tbody tr th:only-of-type {\n",
       "        vertical-align: middle;\n",
       "    }\n",
       "\n",
       "    .dataframe tbody tr th {\n",
       "        vertical-align: top;\n",
       "    }\n",
       "\n",
       "    .dataframe thead th {\n",
       "        text-align: right;\n",
       "    }\n",
       "</style>\n",
       "<table border=\"1\" class=\"dataframe\">\n",
       "  <thead>\n",
       "    <tr style=\"text-align: right;\">\n",
       "      <th>col_0</th>\n",
       "      <th>0</th>\n",
       "      <th>1</th>\n",
       "    </tr>\n",
       "    <tr>\n",
       "      <th>is_fake</th>\n",
       "      <th></th>\n",
       "      <th></th>\n",
       "    </tr>\n",
       "  </thead>\n",
       "  <tbody>\n",
       "    <tr>\n",
       "      <th>0</th>\n",
       "      <td>580</td>\n",
       "      <td>121</td>\n",
       "    </tr>\n",
       "    <tr>\n",
       "      <th>1</th>\n",
       "      <td>198</td>\n",
       "      <td>541</td>\n",
       "    </tr>\n",
       "  </tbody>\n",
       "</table>\n",
       "</div>"
      ],
      "text/plain": [
       "col_0      0    1\n",
       "is_fake          \n",
       "0        580  121\n",
       "1        198  541"
      ]
     },
     "execution_count": 103,
     "metadata": {},
     "output_type": "execute_result"
    }
   ],
   "source": [
    "pd.crosstab(y_test, y_preds2)"
   ]
  },
  {
   "cell_type": "code",
   "execution_count": 104,
   "id": "1a55cae7",
   "metadata": {},
   "outputs": [
    {
     "data": {
      "text/html": [
       "<div>\n",
       "<style scoped>\n",
       "    .dataframe tbody tr th:only-of-type {\n",
       "        vertical-align: middle;\n",
       "    }\n",
       "\n",
       "    .dataframe tbody tr th {\n",
       "        vertical-align: top;\n",
       "    }\n",
       "\n",
       "    .dataframe thead th {\n",
       "        text-align: right;\n",
       "    }\n",
       "</style>\n",
       "<table border=\"1\" class=\"dataframe\">\n",
       "  <thead>\n",
       "    <tr style=\"text-align: right;\">\n",
       "      <th>col_0</th>\n",
       "      <th>0</th>\n",
       "      <th>1</th>\n",
       "    </tr>\n",
       "    <tr>\n",
       "      <th>is_fake</th>\n",
       "      <th></th>\n",
       "      <th></th>\n",
       "    </tr>\n",
       "  </thead>\n",
       "  <tbody>\n",
       "    <tr>\n",
       "      <th>0</th>\n",
       "      <td>613</td>\n",
       "      <td>88</td>\n",
       "    </tr>\n",
       "    <tr>\n",
       "      <th>1</th>\n",
       "      <td>198</td>\n",
       "      <td>541</td>\n",
       "    </tr>\n",
       "  </tbody>\n",
       "</table>\n",
       "</div>"
      ],
      "text/plain": [
       "col_0      0    1\n",
       "is_fake          \n",
       "0        613   88\n",
       "1        198  541"
      ]
     },
     "execution_count": 104,
     "metadata": {},
     "output_type": "execute_result"
    }
   ],
   "source": [
    "pd.crosstab(y_test, y_preds2_s)"
   ]
  },
  {
   "cell_type": "markdown",
   "id": "4e492d74",
   "metadata": {},
   "source": [
    "В отличии от предыдущих моделей, у `KNN` можно наблюдать преобладание ошибок ложноположительного типа и слабый `f1`.\n",
    "\n",
    "Однако, данная модель при использовании стемминга показала наивысший `recall` для is_fake=0. Другими словами, данная модель лучше всех показала себя в определении фальшивости новостей, хотя она чаще других принимает истинные новости за фальшивые."
   ]
  },
  {
   "cell_type": "markdown",
   "id": "0086e26d",
   "metadata": {},
   "source": [
    "**`Предлагаемая метрика для оценки f1_score для KNN:`**"
   ]
  },
  {
   "cell_type": "code",
   "execution_count": 241,
   "id": "8dc48265",
   "metadata": {},
   "outputs": [
    {
     "name": "stdout",
     "output_type": "stream",
     "text": [
      "KNN_f1 = 0.7723054960742327\n",
      "KNN_f1_s = 0.79093567251462\n"
     ]
    }
   ],
   "source": [
    "KNN_f1 = f1_score(y_test, y_preds2)\n",
    "KNN_f1_s = f1_score(y_test, y_preds2_s)\n",
    "print(f\"KNN_f1 = {KNN_f1}\")\n",
    "print(f\"KNN_f1_s = {KNN_f1_s}\")"
   ]
  },
  {
   "cell_type": "markdown",
   "id": "1ce9f207",
   "metadata": {},
   "source": [
    "Модель лучше показалла себя со стеммингом"
   ]
  },
  {
   "cell_type": "markdown",
   "id": "ad6e28bc",
   "metadata": {},
   "source": [
    "### Сравними показатели лучших моделей"
   ]
  },
  {
   "cell_type": "code",
   "execution_count": 246,
   "id": "fe94c829",
   "metadata": {},
   "outputs": [
    {
     "data": {
      "image/png": "[encoded data removed]",
      "text/plain": [
       "<Figure size 720x216 with 3 Axes>"
      ]
     },
     "metadata": {},
     "output_type": "display_data"
    },
    {
     "name": "stdout",
     "output_type": "stream",
     "text": [
      "f1 для SVC (stem): \t0.8457300275482094\n",
      "f1 для LogReg: \t\t0.8435828877005348\n",
      "f1 для KNN (stem): \t0.79093567251462\n"
     ]
    }
   ],
   "source": [
    "# Выведем свобную таблицы скоров и кросстабы самых интеерсных вариантов на одном графике:\n",
    "\n",
    "sns.set(font_scale=1.2)\n",
    "\n",
    "fig, (ax0, ax1, ax2) = plt.subplots(sharey=True, nrows=1, ncols=3, figsize=(10, 3))\n",
    "\n",
    "ax0 = sns.heatmap(confusion_matrix(y_test, y_preds1_s),\n",
    "                  ax = ax0,\n",
    "                  annot=True,\n",
    "                  cbar=False, fmt='.0f')\n",
    "ax0.set(title='SVC',\n",
    "        xlabel=\"Реальный лейбл\",\n",
    "        ylabel=\"Предсказанный лейбл\")\n",
    "\n",
    "ax1 = sns.heatmap(confusion_matrix(y_test, y_preds),\n",
    "                  ax = ax1,\n",
    "                  annot=True,\n",
    "                  cbar=False,\n",
    "                  fmt='.0f')\n",
    "ax1.set(title='Logistic Regression',\n",
    "        xlabel=\"Реальный лейбл\")\n",
    "\n",
    "ax2 = sns.heatmap(confusion_matrix(y_test, y_preds2_s),\n",
    "                  ax = ax2,\n",
    "                  annot=True,\n",
    "                  cbar=False,\n",
    "                  fmt='.0f')\n",
    "ax2.set(title='KNN',\n",
    "        xlabel=\"Реальный лейбл\")\n",
    "\n",
    "plt.show()\n",
    "\n",
    "print(f'f1 для SVC (stem): \\t{SVC_f1_s}')\n",
    "print(f'f1 для LogReg: \\t\\t{LR_f1}')\n",
    "print(f'f1 для KNN (stem): \\t{KNN_f1_s}')\n"
   ]
  },
  {
   "cell_type": "markdown",
   "id": "32bdd7f3",
   "metadata": {},
   "source": [
    "Опираясь на сравнение по метрике **f1**, лучше всех показала себя модель **`SVC`** с показателем **0.85**"
   ]
  },
  {
   "cell_type": "markdown",
   "id": "1f86375a",
   "metadata": {},
   "source": [
    "**Замечание:** Не смотря на самый низкий f1 из представленных, для определенного круга задач (требующий обнаружения максимального количества фейков) лучше подойдет модель `KNN`.\n",
    "\n",
    "В тоже время `Logistic Regression` при сравнимом f1 показал лучщие результаты для обнаружения реальных новостей, что может дать лучший эффект для другого рода задач.\n"
   ]
  },
  {
   "cell_type": "markdown",
   "id": "968f388d",
   "metadata": {},
   "source": [
    "# Сделаем предсказания на тестовом датасете"
   ]
  },
  {
   "cell_type": "code",
   "execution_count": 214,
   "id": "7ee79adc",
   "metadata": {},
   "outputs": [
    {
     "data": {
      "text/html": [
       "<div>\n",
       "<style scoped>\n",
       "    .dataframe tbody tr th:only-of-type {\n",
       "        vertical-align: middle;\n",
       "    }\n",
       "\n",
       "    .dataframe tbody tr th {\n",
       "        vertical-align: top;\n",
       "    }\n",
       "\n",
       "    .dataframe thead th {\n",
       "        text-align: right;\n",
       "    }\n",
       "</style>\n",
       "<table border=\"1\" class=\"dataframe\">\n",
       "  <thead>\n",
       "    <tr style=\"text-align: right;\">\n",
       "      <th></th>\n",
       "      <th>title</th>\n",
       "      <th>is_fake</th>\n",
       "    </tr>\n",
       "  </thead>\n",
       "  <tbody>\n",
       "    <tr>\n",
       "      <th>0</th>\n",
       "      <td>Роскомнадзор представил реестр сочетаний цвето...</td>\n",
       "      <td>0</td>\n",
       "    </tr>\n",
       "    <tr>\n",
       "      <th>1</th>\n",
       "      <td>Ночью под Минском на президентской горе Белара...</td>\n",
       "      <td>0</td>\n",
       "    </tr>\n",
       "    <tr>\n",
       "      <th>2</th>\n",
       "      <td>Бывший спичрайтер Юрия Лозы рассказал о трудно...</td>\n",
       "      <td>0</td>\n",
       "    </tr>\n",
       "    <tr>\n",
       "      <th>3</th>\n",
       "      <td>Сельская церковь, собравшая рекордно низкое ко...</td>\n",
       "      <td>0</td>\n",
       "    </tr>\n",
       "    <tr>\n",
       "      <th>4</th>\n",
       "      <td>Акции Google рухнули после объявления о переза...</td>\n",
       "      <td>0</td>\n",
       "    </tr>\n",
       "    <tr>\n",
       "      <th>...</th>\n",
       "      <td>...</td>\n",
       "      <td>...</td>\n",
       "    </tr>\n",
       "    <tr>\n",
       "      <th>995</th>\n",
       "      <td>Прокуратура заподозрила Явлинского в авторитар...</td>\n",
       "      <td>0</td>\n",
       "    </tr>\n",
       "    <tr>\n",
       "      <th>996</th>\n",
       "      <td>В День Победы стратегические ракетоносцы Ту-16...</td>\n",
       "      <td>0</td>\n",
       "    </tr>\n",
       "    <tr>\n",
       "      <th>997</th>\n",
       "      <td>СК возбудил дело против авиакомпании «Победа» ...</td>\n",
       "      <td>0</td>\n",
       "    </tr>\n",
       "    <tr>\n",
       "      <th>998</th>\n",
       "      <td>Криптомонетный двор Туркменистана выпустил юби...</td>\n",
       "      <td>0</td>\n",
       "    </tr>\n",
       "    <tr>\n",
       "      <th>999</th>\n",
       "      <td>Deutsche Bahn заплатит рекордный штраф за чтен...</td>\n",
       "      <td>0</td>\n",
       "    </tr>\n",
       "  </tbody>\n",
       "</table>\n",
       "<p>1000 rows × 2 columns</p>\n",
       "</div>"
      ],
      "text/plain": [
       "                                                 title  is_fake\n",
       "0    Роскомнадзор представил реестр сочетаний цвето...        0\n",
       "1    Ночью под Минском на президентской горе Белара...        0\n",
       "2    Бывший спичрайтер Юрия Лозы рассказал о трудно...        0\n",
       "3    Сельская церковь, собравшая рекордно низкое ко...        0\n",
       "4    Акции Google рухнули после объявления о переза...        0\n",
       "..                                                 ...      ...\n",
       "995  Прокуратура заподозрила Явлинского в авторитар...        0\n",
       "996  В День Победы стратегические ракетоносцы Ту-16...        0\n",
       "997  СК возбудил дело против авиакомпании «Победа» ...        0\n",
       "998  Криптомонетный двор Туркменистана выпустил юби...        0\n",
       "999  Deutsche Bahn заплатит рекордный штраф за чтен...        0\n",
       "\n",
       "[1000 rows x 2 columns]"
      ]
     },
     "execution_count": 214,
     "metadata": {},
     "output_type": "execute_result"
    }
   ],
   "source": [
    "# Импортируем датасет\n",
    "test_df = pd.read_csv('data/test.tsv', sep=\"\\t\")\n",
    "test_df"
   ]
  },
  {
   "cell_type": "code",
   "execution_count": 215,
   "id": "ca13d561",
   "metadata": {},
   "outputs": [
    {
     "name": "stdout",
     "output_type": "stream",
     "text": [
      "<class 'pandas.core.frame.DataFrame'>\n",
      "RangeIndex: 1000 entries, 0 to 999\n",
      "Data columns (total 2 columns):\n",
      " #   Column   Non-Null Count  Dtype \n",
      "---  ------   --------------  ----- \n",
      " 0   title    1000 non-null   object\n",
      " 1   is_fake  1000 non-null   int64 \n",
      "dtypes: int64(1), object(1)\n",
      "memory usage: 15.8+ KB\n"
     ]
    }
   ],
   "source": [
    "test_df.info()"
   ]
  },
  {
   "cell_type": "code",
   "execution_count": 216,
   "id": "7d27ef9b",
   "metadata": {},
   "outputs": [
    {
     "data": {
      "text/plain": [
       "0      Роскомнадзор представил реестр сочетаний цвето...\n",
       "1      Ночью под Минском на президентской горе Белара...\n",
       "2      Бывший спичрайтер Юрия Лозы рассказал о трудно...\n",
       "3      Сельская церковь, собравшая рекордно низкое ко...\n",
       "4      Акции Google рухнули после объявления о переза...\n",
       "                             ...                        \n",
       "995    Прокуратура заподозрила Явлинского в авторитар...\n",
       "996    В День Победы стратегические ракетоносцы Ту-16...\n",
       "997    СК возбудил дело против авиакомпании «Победа» ...\n",
       "998    Криптомонетный двор Туркменистана выпустил юби...\n",
       "999    Deutsche Bahn заплатит рекордный штраф за чтен...\n",
       "Name: title, Length: 1000, dtype: object"
      ]
     },
     "execution_count": 216,
     "metadata": {},
     "output_type": "execute_result"
    }
   ],
   "source": [
    "# Экстрагируем данные в переменную\n",
    "X_ctrl = test_df['title']\n",
    "X_ctrl"
   ]
  },
  {
   "cell_type": "code",
   "execution_count": 217,
   "id": "2cc97b99",
   "metadata": {},
   "outputs": [],
   "source": [
    "# Сделаем стемминг\n",
    "Xs_ctrl = [' '.join(stemmer.stemWords(line.split())) for line in X_ctrl]"
   ]
  },
  {
   "cell_type": "code",
   "execution_count": 222,
   "id": "7c86ca31",
   "metadata": {},
   "outputs": [],
   "source": [
    "# Переведем в векторы\n",
    "Xv_ctrl = vectorizer.transform(Xs_ctrl)"
   ]
  },
  {
   "cell_type": "code",
   "execution_count": 223,
   "id": "914fc607",
   "metadata": {},
   "outputs": [
    {
     "data": {
      "text/plain": [
       "(1000, 11075)"
      ]
     },
     "execution_count": 223,
     "metadata": {},
     "output_type": "execute_result"
    }
   ],
   "source": [
    "Xv_ctrl.shape"
   ]
  },
  {
   "cell_type": "markdown",
   "id": "6da4b01d",
   "metadata": {},
   "source": [
    "#### Выполним предсказания\n",
    "\n",
    "Для предсказаний используем `SVC` - модель, показавшую наилучший результат на тренировке.\n",
    "\n",
    "\n",
    "*Данная модель выбрана т.к. имеет наивысший* ***f1_sсore***, *согласно постановке задачи.*"
   ]
  },
  {
   "cell_type": "code",
   "execution_count": 225,
   "id": "bb507b73",
   "metadata": {},
   "outputs": [],
   "source": [
    "y_ctrl = rs_SVC_s.predict(Xv_ctrl)"
   ]
  },
  {
   "cell_type": "code",
   "execution_count": 234,
   "id": "14a9ebbf",
   "metadata": {},
   "outputs": [
    {
     "data": {
      "text/plain": [
       "((1000,), array([1, 1, 1, 0, 0, 0, 0, 0, 0, 0, 0, 1, 1, 0, 0, 0, 0, 1, 1, 1]))"
      ]
     },
     "execution_count": 234,
     "metadata": {},
     "output_type": "execute_result"
    }
   ],
   "source": [
    "y_ctrl.shape, y_ctrl[:20]"
   ]
  },
  {
   "cell_type": "markdown",
   "id": "4e53d368",
   "metadata": {},
   "source": [
    "#### Упакуем предсказания в датасет и сохраним"
   ]
  },
  {
   "cell_type": "code",
   "execution_count": 227,
   "id": "a4c64eac",
   "metadata": {},
   "outputs": [],
   "source": [
    "test_df['is_fake'] = y_ctrl"
   ]
  },
  {
   "cell_type": "code",
   "execution_count": 228,
   "id": "7b62055b",
   "metadata": {},
   "outputs": [
    {
     "data": {
      "text/html": [
       "<div>\n",
       "<style scoped>\n",
       "    .dataframe tbody tr th:only-of-type {\n",
       "        vertical-align: middle;\n",
       "    }\n",
       "\n",
       "    .dataframe tbody tr th {\n",
       "        vertical-align: top;\n",
       "    }\n",
       "\n",
       "    .dataframe thead th {\n",
       "        text-align: right;\n",
       "    }\n",
       "</style>\n",
       "<table border=\"1\" class=\"dataframe\">\n",
       "  <thead>\n",
       "    <tr style=\"text-align: right;\">\n",
       "      <th></th>\n",
       "      <th>title</th>\n",
       "      <th>is_fake</th>\n",
       "    </tr>\n",
       "  </thead>\n",
       "  <tbody>\n",
       "    <tr>\n",
       "      <th>0</th>\n",
       "      <td>Роскомнадзор представил реестр сочетаний цвето...</td>\n",
       "      <td>1</td>\n",
       "    </tr>\n",
       "    <tr>\n",
       "      <th>1</th>\n",
       "      <td>Ночью под Минском на президентской горе Белара...</td>\n",
       "      <td>1</td>\n",
       "    </tr>\n",
       "    <tr>\n",
       "      <th>2</th>\n",
       "      <td>Бывший спичрайтер Юрия Лозы рассказал о трудно...</td>\n",
       "      <td>1</td>\n",
       "    </tr>\n",
       "    <tr>\n",
       "      <th>3</th>\n",
       "      <td>Сельская церковь, собравшая рекордно низкое ко...</td>\n",
       "      <td>0</td>\n",
       "    </tr>\n",
       "    <tr>\n",
       "      <th>4</th>\n",
       "      <td>Акции Google рухнули после объявления о переза...</td>\n",
       "      <td>0</td>\n",
       "    </tr>\n",
       "    <tr>\n",
       "      <th>...</th>\n",
       "      <td>...</td>\n",
       "      <td>...</td>\n",
       "    </tr>\n",
       "    <tr>\n",
       "      <th>995</th>\n",
       "      <td>Прокуратура заподозрила Явлинского в авторитар...</td>\n",
       "      <td>1</td>\n",
       "    </tr>\n",
       "    <tr>\n",
       "      <th>996</th>\n",
       "      <td>В День Победы стратегические ракетоносцы Ту-16...</td>\n",
       "      <td>1</td>\n",
       "    </tr>\n",
       "    <tr>\n",
       "      <th>997</th>\n",
       "      <td>СК возбудил дело против авиакомпании «Победа» ...</td>\n",
       "      <td>1</td>\n",
       "    </tr>\n",
       "    <tr>\n",
       "      <th>998</th>\n",
       "      <td>Криптомонетный двор Туркменистана выпустил юби...</td>\n",
       "      <td>1</td>\n",
       "    </tr>\n",
       "    <tr>\n",
       "      <th>999</th>\n",
       "      <td>Deutsche Bahn заплатит рекордный штраф за чтен...</td>\n",
       "      <td>0</td>\n",
       "    </tr>\n",
       "  </tbody>\n",
       "</table>\n",
       "<p>1000 rows × 2 columns</p>\n",
       "</div>"
      ],
      "text/plain": [
       "                                                 title  is_fake\n",
       "0    Роскомнадзор представил реестр сочетаний цвето...        1\n",
       "1    Ночью под Минском на президентской горе Белара...        1\n",
       "2    Бывший спичрайтер Юрия Лозы рассказал о трудно...        1\n",
       "3    Сельская церковь, собравшая рекордно низкое ко...        0\n",
       "4    Акции Google рухнули после объявления о переза...        0\n",
       "..                                                 ...      ...\n",
       "995  Прокуратура заподозрила Явлинского в авторитар...        1\n",
       "996  В День Победы стратегические ракетоносцы Ту-16...        1\n",
       "997  СК возбудил дело против авиакомпании «Победа» ...        1\n",
       "998  Криптомонетный двор Туркменистана выпустил юби...        1\n",
       "999  Deutsche Bahn заплатит рекордный штраф за чтен...        0\n",
       "\n",
       "[1000 rows x 2 columns]"
      ]
     },
     "execution_count": 228,
     "metadata": {},
     "output_type": "execute_result"
    }
   ],
   "source": [
    "test_df"
   ]
  },
  {
   "cell_type": "code",
   "execution_count": 229,
   "id": "84be8b07",
   "metadata": {},
   "outputs": [],
   "source": [
    "# Сохраним в файл:\n",
    "test_df.to_csv('./predictions.tsv', sep='\\t', index=False)"
   ]
  },
  {
   "cell_type": "markdown",
   "id": "a27ce40d",
   "metadata": {},
   "source": [
    "Проверим успешность сохранения:"
   ]
  },
  {
   "cell_type": "code",
   "execution_count": 230,
   "id": "5aa93012",
   "metadata": {},
   "outputs": [
    {
     "data": {
      "text/html": [
       "<div>\n",
       "<style scoped>\n",
       "    .dataframe tbody tr th:only-of-type {\n",
       "        vertical-align: middle;\n",
       "    }\n",
       "\n",
       "    .dataframe tbody tr th {\n",
       "        vertical-align: top;\n",
       "    }\n",
       "\n",
       "    .dataframe thead th {\n",
       "        text-align: right;\n",
       "    }\n",
       "</style>\n",
       "<table border=\"1\" class=\"dataframe\">\n",
       "  <thead>\n",
       "    <tr style=\"text-align: right;\">\n",
       "      <th></th>\n",
       "      <th>title</th>\n",
       "      <th>is_fake</th>\n",
       "    </tr>\n",
       "  </thead>\n",
       "  <tbody>\n",
       "    <tr>\n",
       "      <th>0</th>\n",
       "      <td>Роскомнадзор представил реестр сочетаний цвето...</td>\n",
       "      <td>1</td>\n",
       "    </tr>\n",
       "    <tr>\n",
       "      <th>1</th>\n",
       "      <td>Ночью под Минском на президентской горе Белара...</td>\n",
       "      <td>1</td>\n",
       "    </tr>\n",
       "    <tr>\n",
       "      <th>2</th>\n",
       "      <td>Бывший спичрайтер Юрия Лозы рассказал о трудно...</td>\n",
       "      <td>1</td>\n",
       "    </tr>\n",
       "    <tr>\n",
       "      <th>3</th>\n",
       "      <td>Сельская церковь, собравшая рекордно низкое ко...</td>\n",
       "      <td>0</td>\n",
       "    </tr>\n",
       "    <tr>\n",
       "      <th>4</th>\n",
       "      <td>Акции Google рухнули после объявления о переза...</td>\n",
       "      <td>0</td>\n",
       "    </tr>\n",
       "    <tr>\n",
       "      <th>...</th>\n",
       "      <td>...</td>\n",
       "      <td>...</td>\n",
       "    </tr>\n",
       "    <tr>\n",
       "      <th>995</th>\n",
       "      <td>Прокуратура заподозрила Явлинского в авторитар...</td>\n",
       "      <td>1</td>\n",
       "    </tr>\n",
       "    <tr>\n",
       "      <th>996</th>\n",
       "      <td>В День Победы стратегические ракетоносцы Ту-16...</td>\n",
       "      <td>1</td>\n",
       "    </tr>\n",
       "    <tr>\n",
       "      <th>997</th>\n",
       "      <td>СК возбудил дело против авиакомпании «Победа» ...</td>\n",
       "      <td>1</td>\n",
       "    </tr>\n",
       "    <tr>\n",
       "      <th>998</th>\n",
       "      <td>Криптомонетный двор Туркменистана выпустил юби...</td>\n",
       "      <td>1</td>\n",
       "    </tr>\n",
       "    <tr>\n",
       "      <th>999</th>\n",
       "      <td>Deutsche Bahn заплатит рекордный штраф за чтен...</td>\n",
       "      <td>0</td>\n",
       "    </tr>\n",
       "  </tbody>\n",
       "</table>\n",
       "<p>1000 rows × 2 columns</p>\n",
       "</div>"
      ],
      "text/plain": [
       "                                                 title  is_fake\n",
       "0    Роскомнадзор представил реестр сочетаний цвето...        1\n",
       "1    Ночью под Минском на президентской горе Белара...        1\n",
       "2    Бывший спичрайтер Юрия Лозы рассказал о трудно...        1\n",
       "3    Сельская церковь, собравшая рекордно низкое ко...        0\n",
       "4    Акции Google рухнули после объявления о переза...        0\n",
       "..                                                 ...      ...\n",
       "995  Прокуратура заподозрила Явлинского в авторитар...        1\n",
       "996  В День Победы стратегические ракетоносцы Ту-16...        1\n",
       "997  СК возбудил дело против авиакомпании «Победа» ...        1\n",
       "998  Криптомонетный двор Туркменистана выпустил юби...        1\n",
       "999  Deutsche Bahn заплатит рекордный штраф за чтен...        0\n",
       "\n",
       "[1000 rows x 2 columns]"
      ]
     },
     "execution_count": 230,
     "metadata": {},
     "output_type": "execute_result"
    }
   ],
   "source": [
    "check = pd.read_csv('./predictions.tsv', sep='\\t')\n",
    "check"
   ]
  },
  {
   "cell_type": "code",
   "execution_count": 231,
   "id": "7c4d95ea",
   "metadata": {},
   "outputs": [
    {
     "data": {
      "text/html": [
       "<div>\n",
       "<style scoped>\n",
       "    .dataframe tbody tr th:only-of-type {\n",
       "        vertical-align: middle;\n",
       "    }\n",
       "\n",
       "    .dataframe tbody tr th {\n",
       "        vertical-align: top;\n",
       "    }\n",
       "\n",
       "    .dataframe thead th {\n",
       "        text-align: right;\n",
       "    }\n",
       "</style>\n",
       "<table border=\"1\" class=\"dataframe\">\n",
       "  <thead>\n",
       "    <tr style=\"text-align: right;\">\n",
       "      <th></th>\n",
       "      <th>title</th>\n",
       "      <th>is_fake</th>\n",
       "    </tr>\n",
       "  </thead>\n",
       "  <tbody>\n",
       "    <tr>\n",
       "      <th>0</th>\n",
       "      <td>Роскомнадзор представил реестр сочетаний цвето...</td>\n",
       "      <td>1</td>\n",
       "    </tr>\n",
       "    <tr>\n",
       "      <th>1</th>\n",
       "      <td>Ночью под Минском на президентской горе Белара...</td>\n",
       "      <td>1</td>\n",
       "    </tr>\n",
       "    <tr>\n",
       "      <th>2</th>\n",
       "      <td>Бывший спичрайтер Юрия Лозы рассказал о трудно...</td>\n",
       "      <td>1</td>\n",
       "    </tr>\n",
       "    <tr>\n",
       "      <th>3</th>\n",
       "      <td>Сельская церковь, собравшая рекордно низкое ко...</td>\n",
       "      <td>0</td>\n",
       "    </tr>\n",
       "    <tr>\n",
       "      <th>4</th>\n",
       "      <td>Акции Google рухнули после объявления о переза...</td>\n",
       "      <td>0</td>\n",
       "    </tr>\n",
       "    <tr>\n",
       "      <th>...</th>\n",
       "      <td>...</td>\n",
       "      <td>...</td>\n",
       "    </tr>\n",
       "    <tr>\n",
       "      <th>995</th>\n",
       "      <td>Прокуратура заподозрила Явлинского в авторитар...</td>\n",
       "      <td>1</td>\n",
       "    </tr>\n",
       "    <tr>\n",
       "      <th>996</th>\n",
       "      <td>В День Победы стратегические ракетоносцы Ту-16...</td>\n",
       "      <td>1</td>\n",
       "    </tr>\n",
       "    <tr>\n",
       "      <th>997</th>\n",
       "      <td>СК возбудил дело против авиакомпании «Победа» ...</td>\n",
       "      <td>1</td>\n",
       "    </tr>\n",
       "    <tr>\n",
       "      <th>998</th>\n",
       "      <td>Криптомонетный двор Туркменистана выпустил юби...</td>\n",
       "      <td>1</td>\n",
       "    </tr>\n",
       "    <tr>\n",
       "      <th>999</th>\n",
       "      <td>Deutsche Bahn заплатит рекордный штраф за чтен...</td>\n",
       "      <td>0</td>\n",
       "    </tr>\n",
       "  </tbody>\n",
       "</table>\n",
       "<p>1000 rows × 2 columns</p>\n",
       "</div>"
      ],
      "text/plain": [
       "                                                 title  is_fake\n",
       "0    Роскомнадзор представил реестр сочетаний цвето...        1\n",
       "1    Ночью под Минском на президентской горе Белара...        1\n",
       "2    Бывший спичрайтер Юрия Лозы рассказал о трудно...        1\n",
       "3    Сельская церковь, собравшая рекордно низкое ко...        0\n",
       "4    Акции Google рухнули после объявления о переза...        0\n",
       "..                                                 ...      ...\n",
       "995  Прокуратура заподозрила Явлинского в авторитар...        1\n",
       "996  В День Победы стратегические ракетоносцы Ту-16...        1\n",
       "997  СК возбудил дело против авиакомпании «Победа» ...        1\n",
       "998  Криптомонетный двор Туркменистана выпустил юби...        1\n",
       "999  Deutsche Bahn заплатит рекордный штраф за чтен...        0\n",
       "\n",
       "[1000 rows x 2 columns]"
      ]
     },
     "execution_count": 231,
     "metadata": {},
     "output_type": "execute_result"
    }
   ],
   "source": [
    "# Сравним с сохраняемым датасетом:\n",
    "test_df"
   ]
  },
  {
   "cell_type": "markdown",
   "id": "2a28d4f2",
   "metadata": {},
   "source": [
    "Сохранение прошло успешно 👍"
   ]
  },
  {
   "cell_type": "markdown",
   "id": "f6316941",
   "metadata": {},
   "source": [
    "### Задача выполнена"
   ]
  },
  {
   "cell_type": "markdown",
   "id": "9ac00dbd",
   "metadata": {},
   "source": [
    "#### Гипотезы по улучшению качества предсказаний:\n",
    "\n",
    "* В первую очередь увеличить размер тренировочного датасета\n",
    "* Использовать метод Transfer Learning с использованием слоя, натренированного на аналогичные задачи\n",
    "* Использовать векторизатор, адаптированный для русского языка, либо русскоязычный набор стоп слов с текущим векторизатором\n",
    "* Провести эксперименты с другими моделями (в ходе экспериментов я так же использовал Keras, но он дал показатели ниже моделей, представленных в текущем блокноте)"
   ]
  }
 ],
 "metadata": {
  "kernelspec": {
   "display_name": "Python 3 (ipykernel)",
   "language": "python",
   "name": "python3"
  },
  "language_info": {
   "codemirror_mode": {
    "name": "ipython",
    "version": 3
   },
   "file_extension": ".py",
   "mimetype": "text/x-python",
   "name": "python",
   "nbconvert_exporter": "python",
   "pygments_lexer": "ipython3",
   "version": "3.9.12"
  }
 },
 "nbformat": 4,
 "nbformat_minor": 5
}
